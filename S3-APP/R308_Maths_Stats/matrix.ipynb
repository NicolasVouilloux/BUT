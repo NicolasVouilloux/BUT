{
 "cells": [
  {
   "cell_type": "markdown",
   "id": "c53483d2-891b-4e48-b8dd-683309ffec9c",
   "metadata": {},
   "source": [
    "# TP Python\n",
    "\n",
    "## Chaines de Markov\n",
    "\n",
    "Pour ce TP, on fera appel aux matrices en Python. Pour cela on utilisera `numpy` avec la commande d’import `import numpy as np`.\n",
    "Une matrice sera alors obtenue avec une commande du type `A = np.array([[1,2],[0,1]])` qui donne la matrice"
   ]
  },
  {
   "cell_type": "code",
   "execution_count": 1,
   "id": "70491d81-9863-4da0-be4b-82e3cd3f0d90",
   "metadata": {
    "tags": []
   },
   "outputs": [
    {
     "name": "stdout",
     "output_type": "stream",
     "text": [
      "Requirement already satisfied: numpy in /opt/conda/lib/python3.10/site-packages (1.24.3)\n",
      "Note: you may need to restart the kernel to use updated packages.\n"
     ]
    }
   ],
   "source": [
    "pip install numpy"
   ]
  },
  {
   "cell_type": "code",
   "execution_count": 2,
   "id": "9bbeb565-ba35-44d8-82ed-05ee59b0d87a",
   "metadata": {
    "tags": []
   },
   "outputs": [
    {
     "name": "stdout",
     "output_type": "stream",
     "text": [
      "[[1 2]\n",
      " [0 1]]\n"
     ]
    }
   ],
   "source": [
    "import numpy as np\n",
    "\n",
    "A = np.array([(1,2),(0,1)])\n",
    "print(A.view())"
   ]
  },
  {
   "cell_type": "markdown",
   "id": "634f5ced-9abc-4e10-a510-f739a3aab1cc",
   "metadata": {},
   "source": [
    "### Exercice 1\n",
    "\n",
    "Ecrire une fonction `matrice_stochastique` qui prend une matrice en argument, vérifie qu’elle est stochastique et retourne `True` ou `False` selon qu’elle est ou non stochastique."
   ]
  },
  {
   "cell_type": "code",
   "execution_count": 3,
   "id": "dc2f9722-9e19-4111-87d5-6993af481c71",
   "metadata": {
    "tags": []
   },
   "outputs": [
    {
     "name": "stdout",
     "output_type": "stream",
     "text": [
      "Attention : matrice non carrée (ou vide) passée en paramètre !\n",
      "[] False (attendu : False et alerte)\n",
      "\n",
      "[[0.5        0.33333333]\n",
      " [0.5        0.66666667]] \n",
      " True (attendu : True)\n",
      "\n",
      "[[-0.5  0. ]\n",
      " [ 1.5  1. ]] \n",
      " False (attendu : False)\n",
      "\n",
      "Attention : matrice non carrée (ou vide) passée en paramètre !\n",
      "[[1 2]\n",
      " [1 2]\n",
      " [1 2]] \n",
      " False (attendu : False et alerte)\n"
     ]
    }
   ],
   "source": [
    "def matrice_carree(m) -> bool:\n",
    "    if len(m) == 0:\n",
    "        return False\n",
    "    if len(m) == len(m[0]):\n",
    "        return True\n",
    "    return False\n",
    "\n",
    "def matrice_stochastique(m) -> bool:\n",
    "    if not matrice_carree(m):\n",
    "        print(\"Attention : matrice non carrée (ou vide) passée en paramètre !\")\n",
    "        return False\n",
    "    width = len(m) # on considere que la matrice est carrée\n",
    "    for x in range(width):\n",
    "        sum = 0\n",
    "        for y in range(width):\n",
    "            val = m[y][x]\n",
    "            if val < 0:\n",
    "                return False\n",
    "            sum += val\n",
    "        if sum != 1:\n",
    "            return False\n",
    "    return True\n",
    "\n",
    "A = []\n",
    "B = np.array([(1/2, 1/3), (1/2, 2/3)])\n",
    "C = np.array([(-1/2, 0),(3/2, 1)])\n",
    "D = np.array([(1,2),(1,2),(1,2)])\n",
    "\n",
    "print(A, matrice_stochastique(A), \"(attendu : False et alerte)\")\n",
    "print()\n",
    "print(B.view(), '\\n', matrice_stochastique(B), \"(attendu : True)\")\n",
    "print()\n",
    "print(C.view(), '\\n', matrice_stochastique(C), \"(attendu : False)\")\n",
    "print()\n",
    "print(D.view(), '\\n', matrice_stochastique(D), \"(attendu : False et alerte)\")"
   ]
  },
  {
   "cell_type": "markdown",
   "id": "3cfe7b44-ecc7-4b39-b3ae-9b69713812be",
   "metadata": {},
   "source": [
    "### Exercice 2\n",
    "\n",
    "Écrire une fonction `chaine_irreductible` qui prend une matrice stochastique $P$ en argument et retourne `True` ou `False` selon que la chaine de Markov associée est ou non irréductible. On ajoutera une alerte si la matrice donnée n’est pas stochastique.\n",
    "\n",
    "Pour cela, on calculera $P, P^2, ... , P^n$ où $n$ est le nombre d’états puis on calculera $S = P + P^2 + ... + P^n$. Si tous les coefficients de $S$ sont strictement positifs alors la chaîne est irréductible. On pourra justifier ce fait."
   ]
  },
  {
   "cell_type": "code",
   "execution_count": 6,
   "id": "bcbbfddd-3a4a-4e44-95ce-f80788e5dee7",
   "metadata": {
    "tags": []
   },
   "outputs": [
    {
     "name": "stdout",
     "output_type": "stream",
     "text": [
      "[[0.25       0.66666667 0.        ]\n",
      " [0.5        0.33333333 0.        ]\n",
      " [0.25       0.         1.        ]] \n",
      " False (attendu : False)\n",
      "\n",
      "Attention : matrice non stochastique passée en paramètre !\n",
      "[[ 0.25       -0.33333333  0.        ]\n",
      " [ 0.5         0.66666667  0.        ]\n",
      " [ 0.25        0.66666667  1.        ]] \n",
      " False (attendu : False et alerte)\n",
      "\n",
      "[[0.5        0.5        0.        ]\n",
      " [0.5        0.25       0.33333333]\n",
      " [0.         0.25       0.66666667]] \n",
      " True (attendu : True)\n"
     ]
    }
   ],
   "source": [
    "def chaine_irreductible(m) -> bool:\n",
    "    if not matrice_carree(m):\n",
    "        print(\"Attention : matrice non carrée passée en paramètre !\")\n",
    "        return False\n",
    "    if not matrice_stochastique(m):\n",
    "        print(\"Attention : matrice non stochastique passée en paramètre !\")\n",
    "        return False\n",
    "    \n",
    "    S = np.copy(m)\n",
    "    Pn = np.copy(m)\n",
    "    for n in range(1, len(m)):\n",
    "        Pn = np.matmul(Pn, m)\n",
    "        S += Pn\n",
    "    \n",
    "    for i in S:\n",
    "        for j in i:\n",
    "            if j <= 0:\n",
    "                return False\n",
    "    return True\n",
    "\n",
    "# Matrices exercice 1 poly\n",
    "P3 = np.array([(1/4, 2/3, 0),\n",
    "               (1/2, 1/3, 0),\n",
    "               (1/4, 0, 1)])\n",
    "P4 = np.array([(1/4,-1/3, 0),\n",
    "               (1/2, 2/3, 0), \n",
    "               (1/4, 2/3, 1)])\n",
    "# Matrice exercice 2 poly\n",
    "P = np.array([(1/2, 1/2, 0),\n",
    "              (1/2, 1/4, 1/3),\n",
    "              (0,   1/4, 2/3)])\n",
    "\n",
    "print(P3.view(), '\\n', chaine_irreductible(P3), \"(attendu : False)\")\n",
    "print()\n",
    "print(P4.view(), '\\n', chaine_irreductible(P4), \"(attendu : False et alerte)\")\n",
    "print()\n",
    "print(P.view(), '\\n', chaine_irreductible(P), \"(attendu : True)\")"
   ]
  },
  {
   "cell_type": "markdown",
   "id": "c569acc1-d483-4778-9eb7-2fcb63b30a76",
   "metadata": {},
   "source": [
    "### Exercice 3\n",
    "\n",
    "Ecrire une fonction `markov(P,i,n)` qui simule $(X_n)$ en partant de l’état $i$ pour une matrice de transition $P$. Faire un test pour des matrices $P$ vues en cours."
   ]
  },
  {
   "cell_type": "code",
   "execution_count": 87,
   "id": "0ebafa80-20bd-4080-9066-a9a07aabb50e",
   "metadata": {
    "tags": []
   },
   "outputs": [
    {
     "name": "stdout",
     "output_type": "stream",
     "text": [
      "P :\n",
      " [[0.5        0.5        0.        ]\n",
      " [0.5        0.25       0.33333333]\n",
      " [0.         0.25       0.66666667]] \n",
      "\n",
      "markov(P, 1, 10) : 0\n"
     ]
    }
   ],
   "source": [
    "import random\n",
    "\n",
    "def markov_tirage(P, i: int) -> int:\n",
    "    if not matrice_carree(P):\n",
    "        print(\"Attention : matrice non carrée passée en paramètre !\")\n",
    "        return False\n",
    "    if not matrice_stochastique(P):\n",
    "        print(\"Attention : matrice non stochastique passée en paramètre !\")\n",
    "        return False\n",
    "    \n",
    "    probas = [P[x][i] for x in range(len(P))]\n",
    "    indexes = range(len(probas))\n",
    "    return random.choices(indexes, weights=probas, k=1)[0]\n",
    "\n",
    "\n",
    "def markov(P, i: int, n: int) -> int:\n",
    "    if n <= 0:\n",
    "        print(\"Attention : n doit être strictement positif !\")\n",
    "        return\n",
    "    \n",
    "    etat = i\n",
    "    for x in range(n):\n",
    "        etat = markov_tirage(P, etat)\n",
    "    return etat\n",
    "\n",
    "\n",
    "print(\"P :\\n\", P.view(), '\\n')\n",
    "print(\"markov(P, 1, 10) :\", markov(P, 1, 10))\n",
    "        "
   ]
  },
  {
   "cell_type": "markdown",
   "id": "90a5f3ab-5f8e-4916-bc41-650d5f946063",
   "metadata": {},
   "source": [
    "### Exercice 4\n",
    "\n",
    "Écrire une fonction `marche_aleatoire(i,n)` qui affiche avec la commande `plot` de `matplotlib.pyplot` une trajectoire aléatoire de longueur $n$ en partant de $i ∈ Z$"
   ]
  },
  {
   "cell_type": "code",
   "execution_count": 111,
   "id": "084573fd-c4cb-4d57-bab4-7e3e53850e74",
   "metadata": {
    "tags": []
   },
   "outputs": [
    {
     "data": {
      "image/png": "[encoded data removed]",
      "text/plain": [
       "<Figure size 640x480 with 1 Axes>"
      ]
     },
     "metadata": {},
     "output_type": "display_data"
    }
   ],
   "source": [
    "import matplotlib.pyplot as plt\n",
    "\n",
    "def marche_aleatoire(i: int, n: int):    \n",
    "    marche = [i]\n",
    "    for x in range(n):\n",
    "        r = random.random() # 0 <= r <= 1\n",
    "        if r < 0.5:\n",
    "            marche.append(marche[x]+1) # on avance\n",
    "        else:\n",
    "            marche.append(marche[x]-1) # on recule\n",
    "    plt.plot(marche)\n",
    "    plt.show()\n",
    "\n",
    "marche_aleatoire(10, 1000)"
   ]
  },
  {
   "cell_type": "markdown",
   "id": "a912c4b4-4b1b-40ce-880b-f1538ba930f8",
   "metadata": {},
   "source": [
    "### Exercice 5\n",
    "\n",
    "Choisir une chaine de Markov $(Xn)$ à 5 états, irréductible et apériodique. On notera $P$ sa matrice de transition. On veut illustrer la convergence vers la loi stationnaire.\n",
    "\n",
    "Choisir une distribution initiale $C$ puis afficher la loi de $X_1,...,X_{10}$ sous la forme d’un histogramme. Refaire l’essai avec d’autres valeurs de $C$ et en déduire une estimation de la loi stationnaire."
   ]
  },
  {
   "cell_type": "code",
   "execution_count": 92,
   "id": "72c8d601-c975-495a-a44d-3a60ced50d3d",
   "metadata": {
    "tags": []
   },
   "outputs": [
    {
     "name": "stdout",
     "output_type": "stream",
     "text": [
      "P :\n",
      " [[0.2 0.3 0.1 0.2 0.2]\n",
      " [0.1 0.4 0.2 0.2 0.1]\n",
      " [0.3 0.2 0.2 0.1 0.2]\n",
      " [0.2 0.2 0.2 0.3 0.1]\n",
      " [0.2 0.1 0.3 0.1 0.3]]\n"
     ]
    }
   ],
   "source": [
    "P = np.array([\n",
    "    (0.2, 0.3, 0.1, 0.2, 0.2),\n",
    "    (0.1, 0.4, 0.2, 0.2, 0.1),\n",
    "    (0.3, 0.2, 0.2, 0.1, 0.2),\n",
    "    (0.2, 0.2, 0.2, 0.3, 0.1),\n",
    "    (0.2, 0.1, 0.3, 0.1, 0.3)])\n",
    "\n",
    "print(\"P :\\n\", P.view())\n",
    "\n"
   ]
  }
 ],
 "metadata": {
  "kernelspec": {
   "display_name": "Python 3 (ipykernel)",
   "language": "python",
   "name": "python3"
  },
  "language_info": {
   "codemirror_mode": {
    "name": "ipython",
    "version": 3
   },
   "file_extension": ".py",
   "mimetype": "text/x-python",
   "name": "python",
   "nbconvert_exporter": "python",
   "pygments_lexer": "ipython3",
   "version": "3.10.8"
  }
 },
 "nbformat": 4,
 "nbformat_minor": 5
}
