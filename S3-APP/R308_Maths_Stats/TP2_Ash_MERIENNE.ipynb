{
 "cells": [
  {
   "cell_type": "markdown",
   "id": "c53483d2-891b-4e48-b8dd-683309ffec9c",
   "metadata": {},
   "source": [
    "# TP Python\n",
    "\n",
    "## Chaines de Markov\n",
    "\n",
    "Pour ce TP, on fera appel aux matrices en Python. Pour cela on utilisera `numpy` avec la commande d’import `import numpy as np`.\n",
    "Une matrice sera alors obtenue avec une commande du type `A = np.array([[1,2],[0,1]])` qui donne la matrice"
   ]
  },
  {
   "cell_type": "code",
   "execution_count": 179,
   "id": "70491d81-9863-4da0-be4b-82e3cd3f0d90",
   "metadata": {
    "tags": []
   },
   "outputs": [
    {
     "name": "stdout",
     "output_type": "stream",
     "text": [
      "Requirement already satisfied: numpy in c:\\users\\ashley\\appdata\\local\\packages\\pythonsoftwarefoundation.python.3.11_qbz5n2kfra8p0\\localcache\\local-packages\\python311\\site-packages (1.26.4)\n",
      "Note: you may need to restart the kernel to use updated packages.\n"
     ]
    },
    {
     "name": "stderr",
     "output_type": "stream",
     "text": [
      "\n",
      "[notice] A new release of pip is available: 24.2 -> 24.3.1\n",
      "[notice] To update, run: C:\\Users\\Ashley\\AppData\\Local\\Microsoft\\WindowsApps\\PythonSoftwareFoundation.Python.3.11_qbz5n2kfra8p0\\python.exe -m pip install --upgrade pip\n"
     ]
    }
   ],
   "source": [
    "pip install numpy"
   ]
  },
  {
   "cell_type": "code",
   "execution_count": 180,
   "id": "9bbeb565-ba35-44d8-82ed-05ee59b0d87a",
   "metadata": {
    "tags": []
   },
   "outputs": [
    {
     "name": "stdout",
     "output_type": "stream",
     "text": [
      "[[1 2]\n",
      " [0 1]]\n"
     ]
    }
   ],
   "source": [
    "import numpy as np\n",
    "\n",
    "A = np.array([(1,2),(0,1)])\n",
    "print(A.view())"
   ]
  },
  {
   "cell_type": "markdown",
   "id": "634f5ced-9abc-4e10-a510-f739a3aab1cc",
   "metadata": {},
   "source": [
    "### Exercice 1\n",
    "\n",
    "Ecrire une fonction `matrice_stochastique` qui prend une matrice en argument, vérifie qu’elle est stochastique et retourne `True` ou `False` selon qu’elle est ou non stochastique."
   ]
  },
  {
   "cell_type": "code",
   "execution_count": 181,
   "id": "dc2f9722-9e19-4111-87d5-6993af481c71",
   "metadata": {
    "tags": []
   },
   "outputs": [
    {
     "name": "stdout",
     "output_type": "stream",
     "text": [
      "Attention : matrice non carrée (ou vide) passée en paramètre !\n",
      "[] False (attendu : False et alerte)\n",
      "\n",
      "[[0.5        0.33333333]\n",
      " [0.5        0.66666667]] \n",
      " True (attendu : True)\n",
      "\n",
      "[[-0.5  0. ]\n",
      " [ 1.5  1. ]] \n",
      " False (attendu : False)\n",
      "\n",
      "Attention : matrice non carrée (ou vide) passée en paramètre !\n",
      "[[1 2]\n",
      " [1 2]\n",
      " [1 2]] \n",
      " False (attendu : False et alerte)\n"
     ]
    }
   ],
   "source": [
    "def matrice_carree(m) -> bool:\n",
    "    if len(m) == 0:\n",
    "        return False\n",
    "    if len(m) == len(m[0]):\n",
    "        return True\n",
    "    return False\n",
    "\n",
    "def matrice_stochastique(m) -> bool:\n",
    "    if not matrice_carree(m):\n",
    "        print(\"Attention : matrice non carrée (ou vide) passée en paramètre !\")\n",
    "        return False\n",
    "    width = len(m) # on considere que la matrice est carrée\n",
    "    for x in range(width):\n",
    "        sum = 0\n",
    "        for y in range(width):\n",
    "            val = m[y][x]\n",
    "            if val < 0:\n",
    "                return False\n",
    "            sum += val\n",
    "        if sum != 1:\n",
    "            return False\n",
    "    return True\n",
    "\n",
    "A = []\n",
    "B = np.array([(1/2, 1/3), (1/2, 2/3)])\n",
    "C = np.array([(-1/2, 0),(3/2, 1)])\n",
    "D = np.array([(1,2),(1,2),(1,2)])\n",
    "\n",
    "print(A, matrice_stochastique(A), \"(attendu : False et alerte)\")\n",
    "print()\n",
    "print(B.view(), '\\n', matrice_stochastique(B), \"(attendu : True)\")\n",
    "print()\n",
    "print(C.view(), '\\n', matrice_stochastique(C), \"(attendu : False)\")\n",
    "print()\n",
    "print(D.view(), '\\n', matrice_stochastique(D), \"(attendu : False et alerte)\")"
   ]
  },
  {
   "cell_type": "markdown",
   "id": "3cfe7b44-ecc7-4b39-b3ae-9b69713812be",
   "metadata": {},
   "source": [
    "### Exercice 2\n",
    "\n",
    "Écrire une fonction `chaine_irreductible` qui prend une matrice stochastique $P$ en argument et retourne `True` ou `False` selon que la chaine de Markov associée est ou non irréductible. On ajoutera une alerte si la matrice donnée n’est pas stochastique.\n",
    "\n",
    "Pour cela, on calculera $P, P^2, ... , P^n$ où $n$ est le nombre d’états puis on calculera $S = P + P^2 + ... + P^n$. Si tous les coefficients de $S$ sont strictement positifs alors la chaîne est irréductible. On pourra justifier ce fait."
   ]
  },
  {
   "cell_type": "code",
   "execution_count": 182,
   "id": "bcbbfddd-3a4a-4e44-95ce-f80788e5dee7",
   "metadata": {
    "tags": []
   },
   "outputs": [
    {
     "name": "stdout",
     "output_type": "stream",
     "text": [
      "[[0.25       0.66666667 0.        ]\n",
      " [0.5        0.33333333 0.        ]\n",
      " [0.25       0.         1.        ]] \n",
      " False (attendu : False)\n",
      "\n",
      "Attention : matrice non stochastique passée en paramètre !\n",
      "[[ 0.25       -0.33333333  0.        ]\n",
      " [ 0.5         0.66666667  0.        ]\n",
      " [ 0.25        0.66666667  1.        ]] \n",
      " False (attendu : False et alerte)\n",
      "\n",
      "[[0.5        0.5        0.        ]\n",
      " [0.5        0.25       0.33333333]\n",
      " [0.         0.25       0.66666667]] \n",
      " True (attendu : True)\n"
     ]
    }
   ],
   "source": [
    "def chaine_irreductible(m) -> bool:\n",
    "    if not matrice_carree(m):\n",
    "        print(\"Attention : matrice non carrée passée en paramètre !\")\n",
    "        return False\n",
    "    if not matrice_stochastique(m):\n",
    "        print(\"Attention : matrice non stochastique passée en paramètre !\")\n",
    "        return False\n",
    "    \n",
    "    S = np.copy(m)\n",
    "    Pn = np.copy(m)\n",
    "    for n in range(1, len(m)):\n",
    "        Pn = np.matmul(Pn, m)\n",
    "        S += Pn\n",
    "    \n",
    "    for i in S:\n",
    "        for j in i:\n",
    "            if j <= 0:\n",
    "                return False\n",
    "    return True\n",
    "\n",
    "# Matrices exercice 1 poly\n",
    "P3 = np.array([(1/4, 2/3, 0),\n",
    "               (1/2, 1/3, 0),\n",
    "               (1/4, 0, 1)])\n",
    "P4 = np.array([(1/4,-1/3, 0),\n",
    "               (1/2, 2/3, 0), \n",
    "               (1/4, 2/3, 1)])\n",
    "# Matrice exercice 2 poly\n",
    "P = np.array([(1/2, 1/2, 0),\n",
    "              (1/2, 1/4, 1/3),\n",
    "              (0,   1/4, 2/3)])\n",
    "\n",
    "print(P3.view(), '\\n', chaine_irreductible(P3), \"(attendu : False)\")\n",
    "print()\n",
    "print(P4.view(), '\\n', chaine_irreductible(P4), \"(attendu : False et alerte)\")\n",
    "print()\n",
    "print(P.view(), '\\n', chaine_irreductible(P), \"(attendu : True)\")"
   ]
  },
  {
   "cell_type": "markdown",
   "id": "c569acc1-d483-4778-9eb7-2fcb63b30a76",
   "metadata": {},
   "source": [
    "### Exercice 3\n",
    "\n",
    "Ecrire une fonction `markov(P,i,n)` qui simule $(X_n)$ en partant de l’état $i$ pour une matrice de transition $P$. Faire un test pour des matrices $P$ vues en cours."
   ]
  },
  {
   "cell_type": "code",
   "execution_count": 183,
   "id": "0ebafa80-20bd-4080-9066-a9a07aabb50e",
   "metadata": {
    "tags": []
   },
   "outputs": [
    {
     "name": "stdout",
     "output_type": "stream",
     "text": [
      "P :\n",
      " [[0.5        0.5        0.        ]\n",
      " [0.5        0.25       0.33333333]\n",
      " [0.         0.25       0.66666667]] \n",
      "\n",
      "markov(P, 1, 10) : 0\n"
     ]
    }
   ],
   "source": [
    "import random\n",
    "\n",
    "def markov_tirage(P, i: int) -> int:\n",
    "    if not matrice_carree(P):\n",
    "        print(\"Attention : matrice non carrée passée en paramètre !\")\n",
    "        return False\n",
    "    if not matrice_stochastique(P):\n",
    "        print(\"Attention : matrice non stochastique passée en paramètre !\")\n",
    "        return False\n",
    "    \n",
    "    probas = [P[x][i] for x in range(len(P))]\n",
    "    indexes = range(len(probas))\n",
    "    return random.choices(indexes, weights=probas, k=1)[0]\n",
    "\n",
    "\n",
    "def markov(P, i: int, n: int) -> int:\n",
    "    if n <= 0:\n",
    "        print(\"Attention : n doit être strictement positif !\")\n",
    "        return\n",
    "    \n",
    "    etat = i\n",
    "    for x in range(n):\n",
    "        etat = markov_tirage(P, etat)\n",
    "    return etat\n",
    "\n",
    "\n",
    "print(\"P :\\n\", P.view(), '\\n')\n",
    "print(\"markov(P, 1, 10) :\", markov(P, 1, 10))\n",
    "        "
   ]
  },
  {
   "cell_type": "markdown",
   "id": "90a5f3ab-5f8e-4916-bc41-650d5f946063",
   "metadata": {},
   "source": [
    "### Exercice 4\n",
    "\n",
    "Écrire une fonction `marche_aleatoire(i,n)` qui affiche avec la commande `plot` de `matplotlib.pyplot` une trajectoire aléatoire de longueur $n$ en partant de $i ∈ Z$"
   ]
  },
  {
   "cell_type": "code",
   "execution_count": 184,
   "id": "084573fd-c4cb-4d57-bab4-7e3e53850e74",
   "metadata": {
    "tags": []
   },
   "outputs": [
    {
     "data": {
      "image/png": "[encoded data removed]",
      "text/plain": [
       "<Figure size 640x480 with 1 Axes>"
      ]
     },
     "metadata": {},
     "output_type": "display_data"
    }
   ],
   "source": [
    "import matplotlib.pyplot as plt\n",
    "\n",
    "def marche_aleatoire(i: int, n: int):    \n",
    "    marche = [i]\n",
    "    for x in range(n):\n",
    "        r = random.random() # 0 <= r <= 1\n",
    "        if r < 0.5:\n",
    "            marche.append(marche[x]+1) # on avance\n",
    "        else:\n",
    "            marche.append(marche[x]-1) # on recule\n",
    "    plt.plot(marche)\n",
    "    plt.show()\n",
    "\n",
    "marche_aleatoire(10, 1000)"
   ]
  },
  {
   "cell_type": "markdown",
   "id": "a912c4b4-4b1b-40ce-880b-f1538ba930f8",
   "metadata": {},
   "source": [
    "### Exercice 5\n",
    "\n",
    "Choisir une chaine de Markov $(Xn)$ à 5 états, irréductible et apériodique. On notera $P$ sa matrice de transition. On veut illustrer la convergence vers la loi stationnaire.\n",
    "\n",
    "Choisir une distribution initiale $C$ puis afficher la loi de $X_1,...,X_{10}$ sous la forme d’un histogramme. Refaire l’essai avec d’autres valeurs de $C$ et en déduire une estimation de la loi stationnaire."
   ]
  },
  {
   "cell_type": "code",
   "execution_count": 185,
   "id": "72c8d601-c975-495a-a44d-3a60ced50d3d",
   "metadata": {
    "tags": []
   },
   "outputs": [
    {
     "name": "stdout",
     "output_type": "stream",
     "text": [
      "P :\n",
      "[[0.3 0.2 0.4 0.1 0.3]\n",
      " [0.2 0.3 0.2 0.2 0.2]\n",
      " [0.2 0.1 0.1 0.5 0.1]\n",
      " [0.2 0.2 0.1 0.1 0.3]\n",
      " [0.1 0.2 0.2 0.1 0.1]]\n",
      "\n",
      "Distribution initiale C1 : [1 0 0 0 0]\n",
      "Distribution initiale C2 : [0.2 0.2 0.2 0.2 0.2]\n",
      "Distribution initiale C3 : [0.  0.  0.  0.5 0.5]\n"
     ]
    }
   ],
   "source": [
    "P = np.array([\n",
    "    (0.3, 0.2, 0.4, 0.1, 0.3),\n",
    "    (0.2, 0.3, 0.2, 0.2, 0.2),\n",
    "    (0.2, 0.1, 0.1, 0.5, 0.1),\n",
    "    (0.2, 0.2, 0.1, 0.1, 0.3),\n",
    "    (0.1, 0.2, 0.2, 0.1, 0.1)])\n",
    "\n",
    "C1 = np.array([1, 0, 0, 0, 0])              # 100% état 1\n",
    "C2 = np.array([0.2, 0.2, 0.2, 0.2, 0.2])    # Uniforme\n",
    "C3 = np.array([0, 0, 0, 0.5, 0.5])          # Concentrée états 4 et 5\n",
    "\n",
    "print(f\"P :\\n{P.view()}\")\n",
    "print()\n",
    "print(f\"Distribution initiale C1 : {C1.view()}\")\n",
    "print(f\"Distribution initiale C2 : {C2.view()}\")\n",
    "print(f\"Distribution initiale C3 : {C3.view()}\")"
   ]
  },
  {
   "cell_type": "code",
   "execution_count": 186,
   "id": "ea4177bd-7d70-452a-b887-fcd544285bfa",
   "metadata": {
    "tags": []
   },
   "outputs": [
    {
     "name": "stdout",
     "output_type": "stream",
     "text": [
      "\n",
      "Lois de probabilité pour C1 :\n",
      "\n",
      "X1 :\t[0.15 0.2  0.15 0.1  0.2 ]\n",
      "X2 :\t[0.155 0.165 0.165 0.16  0.15 ]\n",
      "X3 :\t[0.1595 0.159  0.1575 0.162  0.159 ]\n",
      "X4 :\t[0.15945 0.15955 0.15935 0.1586  0.1599 ]\n",
      "X5 :\t[0.159325 0.15939  0.159465 0.15938  0.15925 ]\n",
      "X6 :\t[0.1593695 0.1593545 0.1593425 0.159406  0.159361 ]\n",
      "X7 :\t[0.15936755 0.1593679  0.15936575 0.1593558  0.1593739 ]\n",
      "X8 :\t[0.15936555 0.1593664  0.15936754 0.15936618 0.15936455]\n",
      "X9 :\t[0.15936614 0.15936593 0.15936578 0.15936667 0.15936601]\n",
      "X10 :\t[0.15936612 0.15936612 0.15936609 0.15936596 0.15936621]\n"
     ]
    }
   ],
   "source": [
    "def lois_X(distrib, matrice, n):\n",
    "    lois = []\n",
    "    for i in range(n):\n",
    "        if i == 0:\n",
    "            a = distrib\n",
    "        else:\n",
    "            a = lois[i-1]\n",
    "        x = np.matmul(a, matrice)\n",
    "        lois.append(x)\n",
    "    return lois\n",
    "\n",
    "N = 10\n",
    "XC1 = lois_X(C1, P, N)\n",
    "XC2 = lois_X(C2, P, N)\n",
    "XC3 = lois_X(C3, P, N)\n",
    "\n",
    "print(\"\\nLois de probabilité pour C1 :\\n\")\n",
    "for i in range(len(X)):\n",
    "    print(f\"X{i+1} :\\t{XC3[i].view()}\")"
   ]
  },
  {
   "cell_type": "code",
   "execution_count": 188,
   "id": "75b2e24f",
   "metadata": {},
   "outputs": [
    {
     "data": {
      "image/png": "[encoded data removed]",
      "text/plain": [
       "<Figure size 1500x500 with 3 Axes>"
      ]
     },
     "metadata": {},
     "output_type": "display_data"
    }
   ],
   "source": [
    "XC1_array = np.array(XC1)\n",
    "XC2_array = np.array(XC2)\n",
    "XC3_array = np.array(XC3)\n",
    "\n",
    "etats = [i for i in range(1, P.shape[0] + 1)]  # P.shape[0] = nombre d'états\n",
    "fig, axs = plt.subplots(1, 3, figsize=(15, 5))\n",
    "\n",
    "\n",
    "for i in range(3):\n",
    "    if i == 0:\n",
    "        X = XC1_array\n",
    "        title = \"C1\"\n",
    "    elif i == 1:\n",
    "        X = XC2_array\n",
    "        title = \"C2\"\n",
    "    else:\n",
    "        X = XC3_array\n",
    "        title = \"C3\"\n",
    "    \n",
    "    axs[i].stackplot(range(N), X.T, labels=etats)\n",
    "    axs[i].set_title(title)\n",
    "    axs[i].set_xlabel(\"n\")\n",
    "    axs[i].set_ylabel(\"Probabilité\")\n",
    "    axs[i].legend(loc=\"upper left\")\n",
    "\n",
    "plt.show()"
   ]
  },
  {
   "cell_type": "markdown",
   "id": "e62c03f6",
   "metadata": {},
   "source": [
    "Je n'ai pas pu realiser d'histogramme car `plt.histo` ne prend que du 1D en argument."
   ]
  },
  {
   "cell_type": "markdown",
   "id": "23046191",
   "metadata": {},
   "source": [
    "On sait que les lois de $X_1, X_2, ..., X_{10}$ tendent vers la loi stationnaire, car $P$ est irréductible et apériodique. Donc on peut prendre la loi la plus grande (ici $X_{10}$) pour estimer la loi stationnaire, mais puisqu'ici on dispose de 3 $X_{10}$ pour 3 distributions initiales differentes, on peut faire la moyenne des 3 $X_{10}$ :"
   ]
  },
  {
   "cell_type": "code",
   "execution_count": 192,
   "id": "8a9fc39b",
   "metadata": {},
   "outputs": [
    {
     "name": "stdout",
     "output_type": "stream",
     "text": [
      "Moyenne des X10 approchant la loi stationnaire de P : [0.20715812 0.20715818 0.2071582  0.20715789 0.2071582 ]\n"
     ]
    }
   ],
   "source": [
    "last_XC1 = XC1[-1]\n",
    "last_XC2 = XC2[-1]\n",
    "last_XC3 = XC3[-1]\n",
    "\n",
    "moy_X10 = (last_XC1 + last_XC2 + last_XC3) / 3\n",
    "print(\"Moyenne des X10 approchant la loi stationnaire de P :\", moy_X10.view())"
   ]
  }
 ],
 "metadata": {
  "kernelspec": {
   "display_name": "Python 3",
   "language": "python",
   "name": "python3"
  },
  "language_info": {
   "codemirror_mode": {
    "name": "ipython",
    "version": 3
   },
   "file_extension": ".py",
   "mimetype": "text/x-python",
   "name": "python",
   "nbconvert_exporter": "python",
   "pygments_lexer": "ipython3",
   "version": "3.11.9"
  }
 },
 "nbformat": 4,
 "nbformat_minor": 5
}
