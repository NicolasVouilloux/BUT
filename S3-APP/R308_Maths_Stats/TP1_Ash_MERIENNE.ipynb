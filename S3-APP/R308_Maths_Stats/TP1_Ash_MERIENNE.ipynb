{
 "cells": [
  {
   "cell_type": "markdown",
   "id": "28cb5fd0-a61f-42e4-b5cd-51465543c030",
   "metadata": {},
   "source": [
    "# TP Python\n",
    "\n",
    "## Simulation de variables aléatoires"
   ]
  },
  {
   "cell_type": "code",
   "execution_count": 25,
   "id": "b5f7d9db",
   "metadata": {
    "vscode": {
     "languageId": "shellscript"
    }
   },
   "outputs": [
    {
     "name": "stdout",
     "output_type": "stream",
     "text": [
      "Requirement already satisfied: matplotlib in c:\\users\\ashley\\appdata\\local\\packages\\pythonsoftwarefoundation.python.3.11_qbz5n2kfra8p0\\localcache\\local-packages\\python311\\site-packages (3.9.2)Note: you may need to restart the kernel to use updated packages.\n"
     ]
    },
    {
     "name": "stderr",
     "output_type": "stream",
     "text": [
      "\n",
      "[notice] A new release of pip is available: 24.2 -> 24.3.1\n",
      "[notice] To update, run: C:\\Users\\Ashley\\AppData\\Local\\Microsoft\\WindowsApps\\PythonSoftwareFoundation.Python.3.11_qbz5n2kfra8p0\\python.exe -m pip install --upgrade pip\n"
     ]
    },
    {
     "name": "stdout",
     "output_type": "stream",
     "text": [
      "\n",
      "Requirement already satisfied: contourpy>=1.0.1 in c:\\users\\ashley\\appdata\\local\\packages\\pythonsoftwarefoundation.python.3.11_qbz5n2kfra8p0\\localcache\\local-packages\\python311\\site-packages (from matplotlib) (1.3.0)\n",
      "Requirement already satisfied: cycler>=0.10 in c:\\users\\ashley\\appdata\\local\\packages\\pythonsoftwarefoundation.python.3.11_qbz5n2kfra8p0\\localcache\\local-packages\\python311\\site-packages (from matplotlib) (0.12.1)\n",
      "Requirement already satisfied: fonttools>=4.22.0 in c:\\users\\ashley\\appdata\\local\\packages\\pythonsoftwarefoundation.python.3.11_qbz5n2kfra8p0\\localcache\\local-packages\\python311\\site-packages (from matplotlib) (4.54.1)\n",
      "Requirement already satisfied: kiwisolver>=1.3.1 in c:\\users\\ashley\\appdata\\local\\packages\\pythonsoftwarefoundation.python.3.11_qbz5n2kfra8p0\\localcache\\local-packages\\python311\\site-packages (from matplotlib) (1.4.7)\n",
      "Requirement already satisfied: numpy>=1.23 in c:\\users\\ashley\\appdata\\local\\packages\\pythonsoftwarefoundation.python.3.11_qbz5n2kfra8p0\\localcache\\local-packages\\python311\\site-packages (from matplotlib) (1.26.4)\n",
      "Requirement already satisfied: packaging>=20.0 in c:\\users\\ashley\\appdata\\local\\packages\\pythonsoftwarefoundation.python.3.11_qbz5n2kfra8p0\\localcache\\local-packages\\python311\\site-packages (from matplotlib) (24.2)\n",
      "Requirement already satisfied: pillow>=8 in c:\\users\\ashley\\appdata\\local\\packages\\pythonsoftwarefoundation.python.3.11_qbz5n2kfra8p0\\localcache\\local-packages\\python311\\site-packages (from matplotlib) (11.0.0)\n",
      "Requirement already satisfied: pyparsing>=2.3.1 in c:\\users\\ashley\\appdata\\local\\packages\\pythonsoftwarefoundation.python.3.11_qbz5n2kfra8p0\\localcache\\local-packages\\python311\\site-packages (from matplotlib) (3.2.0)\n",
      "Requirement already satisfied: python-dateutil>=2.7 in c:\\users\\ashley\\appdata\\local\\packages\\pythonsoftwarefoundation.python.3.11_qbz5n2kfra8p0\\localcache\\local-packages\\python311\\site-packages (from matplotlib) (2.9.0.post0)\n",
      "Requirement already satisfied: six>=1.5 in c:\\users\\ashley\\appdata\\local\\packages\\pythonsoftwarefoundation.python.3.11_qbz5n2kfra8p0\\localcache\\local-packages\\python311\\site-packages (from python-dateutil>=2.7->matplotlib) (1.16.0)\n"
     ]
    }
   ],
   "source": [
    "pip install matplotlib"
   ]
  },
  {
   "cell_type": "markdown",
   "id": "522e9e8d-d6e5-4c95-8b06-cb22ffb13b09",
   "metadata": {},
   "source": [
    "### Exercice 1 - Bernoulli et binomiales\n",
    "\n",
    "Le but de cet exercice est de créer des variables de Bernoulli de paramètre `p` fixé et de faire un test pour vérifier que les variables suivent bien une de loi de Bernoulli. On utilisera la commande `random.random()` qui est censée retourné une réalisation d’une variable aléatoire uniforme sur [0, 1]."
   ]
  },
  {
   "cell_type": "markdown",
   "id": "4e95daa6-f937-4a3f-868f-11cbd7eaa4d5",
   "metadata": {},
   "source": [
    "#### 1. Ecrire une fonction `bernoulli(p)` qui retourne une réalisation d’une variable de Bernoulli de paramètre p à partir de la commande `random()`"
   ]
  },
  {
   "cell_type": "code",
   "execution_count": 22,
   "id": "2cddf9f1-26a8-4af7-9e08-9fe9a4159c98",
   "metadata": {
    "tags": []
   },
   "outputs": [
    {
     "data": {
      "text/plain": [
       "1"
      ]
     },
     "execution_count": 22,
     "metadata": {},
     "output_type": "execute_result"
    }
   ],
   "source": [
    "import random\n",
    "\n",
    "def bernoulli (p: float) -> int:\n",
    "    r = random.random()\n",
    "    if p >= r:\n",
    "        return 1\n",
    "    else:\n",
    "        return 0\n",
    "\n",
    "bernoulli(0.424)"
   ]
  },
  {
   "cell_type": "markdown",
   "id": "ab9c2bd0-2078-47c0-80d1-43127ecd8d77",
   "metadata": {},
   "source": [
    "#### 2. Ecrire une fonction `liste_bernoulli(n,p)` qui retourne une liste avec `n` réalisations d’une variable de Bernoulli de paramètre `p`."
   ]
  },
  {
   "cell_type": "code",
   "execution_count": 4,
   "id": "e10fd882-9af3-422c-bdc2-6359e55242ae",
   "metadata": {
    "tags": []
   },
   "outputs": [
    {
     "data": {
      "text/plain": [
       "[0, 0, 0, 0, 0, 0, 0, 0, 1, 0]"
      ]
     },
     "execution_count": 4,
     "metadata": {},
     "output_type": "execute_result"
    }
   ],
   "source": [
    "def liste_bernoulli(n: int, p: int) -> list:\n",
    "    li = []\n",
    "    for i in range(n):\n",
    "        li.append(bernoulli(p))\n",
    "    return li\n",
    "\n",
    "liste_bernoulli(10, 0.458)"
   ]
  },
  {
   "cell_type": "markdown",
   "id": "0430c24c-3bdd-4016-a5d1-67df0c8fe8f6",
   "metadata": {},
   "source": [
    "#### 3. Ecrire une fonction `frequence_bernoulli(n,p)` qui calcule la fréquence empirique de succès d’une variable de Bernoulli de paramètre `p` sur `n` réalisations."
   ]
  },
  {
   "cell_type": "code",
   "execution_count": 5,
   "id": "2e10ee90-0155-4154-b85b-295e74df0470",
   "metadata": {
    "tags": []
   },
   "outputs": [
    {
     "data": {
      "text/plain": [
       "0.45"
      ]
     },
     "execution_count": 5,
     "metadata": {},
     "output_type": "execute_result"
    }
   ],
   "source": [
    "def frequence_bernoulli(n: int, p: int) -> float:\n",
    "    li = liste_bernoulli(n, p)\n",
    "    succes = li.count(1)\n",
    "    return succes / n\n",
    "\n",
    "frequence_bernoulli(20, 0.36487)"
   ]
  },
  {
   "cell_type": "markdown",
   "id": "417bb657-6e54-4ec2-bc52-bce2a2f50331",
   "metadata": {},
   "source": [
    "#### 4. Proposer une fonction `binomiale(n,p)` pour créer une variable aléatoire binomiale de paramètre `(n, p)`."
   ]
  },
  {
   "cell_type": "code",
   "execution_count": 6,
   "id": "28a2ff2b-8213-40a8-8b7a-bb2d29b33d47",
   "metadata": {},
   "outputs": [
    {
     "data": {
      "text/plain": [
       "5"
      ]
     },
     "execution_count": 6,
     "metadata": {},
     "output_type": "execute_result"
    }
   ],
   "source": [
    "def binomiale(n: int, p: int):\n",
    "    return liste_bernoulli(n, p).count(1)\n",
    "\n",
    "binomiale(10, 0.365497)"
   ]
  },
  {
   "cell_type": "markdown",
   "id": "1abec4a9-5442-4e75-ac23-4eeacae0c6c5",
   "metadata": {},
   "source": [
    "#### 5. Réaliser un histogramme sur un grand nombre `m` de réalisations de cette variable binomiale avec la commande l’histogramme de ces réalisations avec la commande `hist` de la bibliothèque `matplotlib.pyplot` que l’on chargera préalablement avec la commande import `matplotlib.pyplot` (Ou `import matplotlib.pyplot as plt` si on veut avoir `plt` (ou autre chose) comme raccourci)."
   ]
  },
  {
   "cell_type": "code",
   "execution_count": 7,
   "id": "9e3bb666-9193-45c7-8009-c6d05a509daf",
   "metadata": {
    "tags": []
   },
   "outputs": [
    {
     "data": {
      "image/png": "[encoded data removed]",
      "text/plain": [
       "<Figure size 640x480 with 1 Axes>"
      ]
     },
     "metadata": {},
     "output_type": "display_data"
    }
   ],
   "source": [
    "import matplotlib.pyplot as plt\n",
    "\n",
    "def histo(m: int, n: int, p: int):\n",
    "    binom = []\n",
    "    for i in range(m):\n",
    "        binom.append(binomiale(n, p))\n",
    "    plt.hist(binom)\n",
    "    plt.show()\n",
    "\n",
    "histo(5000, 100, 0.5)"
   ]
  },
  {
   "cell_type": "markdown",
   "id": "17372025-3051-444e-bc4b-87984354187e",
   "metadata": {},
   "source": [
    "### Exercice 2 - Monty-Hall\n",
    "\n",
    "Dans le jeu télévisé \"Monthy Hall\", le candidat se trouve face à trois portes. Derrière deux d’entre elles, se trouve une chèvre et derrière la troisième se trouve une voiture. Il choisit une porte, le présentateur ouvre une des deux autres portes (où se trouve forcément une chèvre) et laisse la possibilité au candidat de changer de porte. Le candidat valide ou change son choix puis la porte choisie s’ouvre et le candidat repart avec la chèvre ou la voiture selon ce sur quoi la porte s’est ouverte.\n",
    "\n",
    "***Quelle est la meilleure stratégie : Conserver le premier choix ou le changer ?***\n",
    "\n",
    "On souhaite tester empiriquement ces deux stratégies et comparer avec ce que l’on avait trouvé théoriquement. On supposera que la porte derrière laquelle se trouve la voiture est tirée au hasard de manière uniforme parmi les trois portes.\n",
    "\n",
    "On pourra utiliser la commande `randint(i,j)` qui retourne un nombre entier aléatoire tiré de manière uniforme entre `i` et `j`"
   ]
  },
  {
   "cell_type": "markdown",
   "id": "78d4a1a7-6990-4e29-9868-4f40a2954e51",
   "metadata": {},
   "source": [
    "#### 1. Ecrire une fonction `strategie_conserve()` qui retourne l’issue aléatoire d’une expérience où l’on conserve la porte choisie à la première étape. Le résultat sera 1 si l’expérience est gagnante et 0 sinon."
   ]
  },
  {
   "cell_type": "code",
   "execution_count": 8,
   "id": "a57e5698-f0f5-4546-95a5-b529ebe9769c",
   "metadata": {},
   "outputs": [
    {
     "data": {
      "text/plain": [
       "1"
      ]
     },
     "execution_count": 8,
     "metadata": {},
     "output_type": "execute_result"
    }
   ],
   "source": [
    "def strategie_conserve() -> int:\n",
    "    portes = ['voiture','chevre','chevre']\n",
    "    choix = random.randint(0, 2)\n",
    "    if portes[choix] == 'voiture':\n",
    "        return 1\n",
    "    return 0\n",
    "\n",
    "strategie_conserve()"
   ]
  },
  {
   "cell_type": "markdown",
   "id": "6d6edfc9-abc3-4c75-8fc0-c5308aca78d6",
   "metadata": {
    "tags": []
   },
   "source": [
    "#### 2. Écrire une fonction `strategie_change()` qui retourne l’issue aléatoire d’une expérience où l’on change la porte choisie à la première étape. Le résultat sera 1 si l’expérience est gagnante et 0 sinon"
   ]
  },
  {
   "cell_type": "code",
   "execution_count": 9,
   "id": "4a3629a8-831a-455b-9e8d-7fdecc5f44fc",
   "metadata": {},
   "outputs": [
    {
     "data": {
      "text/plain": [
       "0"
      ]
     },
     "execution_count": 9,
     "metadata": {},
     "output_type": "execute_result"
    }
   ],
   "source": [
    "def strategie_change() -> int:\n",
    "    portes = ['voiture','chevre','chevre']\n",
    "    # choix aleatoire entre les portes\n",
    "    choix = random.randint(0, len(portes)-1)\n",
    "\n",
    "    # on revele une autre porte avec une chevre\n",
    "    if choix == 2:\n",
    "        porteChevre = 1\n",
    "        portes.pop(porteChevre)\n",
    "        choix = 1 # pour ne pas depasser les bornes\n",
    "    else:\n",
    "        porteChevre = 2\n",
    "        portes.pop(porteChevre)\n",
    "    \n",
    "    # on change le choix entre les portes non decouvertes\n",
    "    choix = (choix + 1) % len(portes)\n",
    "    \n",
    "    if portes[choix] == 'voiture':\n",
    "        return 1\n",
    "    return 0\n",
    "\n",
    "strategie_change()"
   ]
  },
  {
   "cell_type": "markdown",
   "id": "9f359f62-cdac-46f5-8e6c-8a2b6a1634b1",
   "metadata": {},
   "source": [
    "#### 3. Écrire une fonction `frequence_conserve(n)` qui retourne la fréquence de gain pour `n` réalisation de la stratégie où l’on conserve la porte choisie à la première étape"
   ]
  },
  {
   "cell_type": "code",
   "execution_count": 10,
   "id": "76b2336c-7252-43be-b332-72a80ae97fda",
   "metadata": {
    "tags": []
   },
   "outputs": [
    {
     "data": {
      "text/plain": [
       "0.331"
      ]
     },
     "execution_count": 10,
     "metadata": {},
     "output_type": "execute_result"
    }
   ],
   "source": [
    "def frequence_conserve(n: int) -> float:\n",
    "    li = []\n",
    "    for i in range(n):\n",
    "        li.append(strategie_conserve())\n",
    "    return li.count(1) / n\n",
    "\n",
    "frequence_conserve(1000)"
   ]
  },
  {
   "cell_type": "markdown",
   "id": "9ddd7db3-30da-419e-ab2c-fc1af95af86a",
   "metadata": {},
   "source": [
    "#### 4. Ecrire une fonction `frequence_change(n)` qui retourne la fréquence de gain pour `n` réalisations de la stratégie où l’on change la porte choisie à la première étape"
   ]
  },
  {
   "cell_type": "code",
   "execution_count": 11,
   "id": "03268ac3-4567-4971-b27d-8074baa4a22b",
   "metadata": {
    "tags": []
   },
   "outputs": [
    {
     "data": {
      "text/plain": [
       "0.661"
      ]
     },
     "execution_count": 11,
     "metadata": {},
     "output_type": "execute_result"
    }
   ],
   "source": [
    "def frequence_change(n: int) -> float:\n",
    "    li = []\n",
    "    for i in range(n):\n",
    "        li.append(strategie_change())\n",
    "    return li.count(1) / n\n",
    "\n",
    "frequence_change(1000)"
   ]
  },
  {
   "cell_type": "markdown",
   "id": "5474fd18-ec8f-43fa-bcbb-6be0b12bc4b8",
   "metadata": {},
   "source": [
    "#### 5. Comparer les résultats pour un grand nombre `n` de réalisations de l’expérience avec le résultat obtenu en théorie."
   ]
  },
  {
   "cell_type": "code",
   "execution_count": 12,
   "id": "1047164c-a8b7-4922-a5f4-57e14904a04e",
   "metadata": {
    "tags": []
   },
   "outputs": [
    {
     "name": "stdout",
     "output_type": "stream",
     "text": [
      "Comparaison avec n = 10 000 :\n",
      "Conserver le choix : \t 33.269999999999996%\n",
      "Changer le choix : \t 66.78%\n"
     ]
    }
   ],
   "source": [
    "n = 10000\n",
    "\n",
    "print(\"Comparaison avec n = 10 000 :\")\n",
    "print(\"Conserver le choix : \\t\", str(frequence_conserve(n)*100)+\"%\")\n",
    "print(\"Changer le choix : \\t\", str(frequence_change(n)*100)+\"%\")"
   ]
  },
  {
   "cell_type": "markdown",
   "id": "388b56e4-0d43-4f4c-addf-ca3b518ea83d",
   "metadata": {},
   "source": [
    "6. Quelle est la meilleure stratégie ?\n",
    "\n",
    ">La meilleure stragtégie est de modifier son choix : en effet, puisque l'on nous révèle une porte avec une chèvre et que l'on choisit la dernière porte non révélée ou déjà choisie, le seul cas où l'on perd est celui où l'on avait choisi la voiture, i.e 1/3 chances."
   ]
  },
  {
   "cell_type": "markdown",
   "id": "8a413f36-7289-4856-a374-741a499bc3ed",
   "metadata": {},
   "source": [
    "### Exercice 3 - Simulation de variable exponentielle\n",
    "\n",
    "Dans cet exercice, on souhaite créer une fonction `exponentielle(λ)` qui retourne le résultat aléatoire d’une variable exponentielle de paramètre `λ` à partir d’une variable aléatoire $X$ sur [0, 1] (obtenue par la commande `random.random()`). Nous allons en fait utiliser une méthode générale. On considère une fonction de répartition $F$ d’une loi de probabilité. On définit la variable aléatoire $Y = F^{−1}(X)$."
   ]
  },
  {
   "cell_type": "markdown",
   "id": "56ba8e55-623b-4336-932a-31eb21382bc5",
   "metadata": {
    "tags": []
   },
   "source": [
    "#### 1. Montrer que la fonction de répartition de $Y$ est $f$ , c’est-à-dire que $P(Y ≤ x) = f(x)$ pour tout $x ∈ R$"
   ]
  },
  {
   "cell_type": "markdown",
   "id": "7b0677d5-aa2d-4d98-853b-8df94db78948",
   "metadata": {
    "vscode": {
     "languageId": "raw"
    }
   },
   "source": [
    "Par définition, $Y = F^{-1}(X)$, où $X$ est une variable aléatoire de loi uniforme sur $[0, 1]$.\n",
    "\n",
    "Nous avons donc que $X = F(Y)$.\n",
    "\n",
    "$$ P(Y \\leq x) = P(F^{-1}(X) \\leq x) $$\n",
    "\n",
    "Comme $F$ est strictement croissante, $F^{-1}$ l'est également. Par conséquent,\n",
    "$$ P(F^{-1}(X) \\leq x) = P(X \\leq F(x)) $$\n",
    "\n",
    "Puisque $X$ suit une loi uniforme sur $[0, 1]$, on a $P(X \\leq F(x)) = F(x)$.\n",
    "\n",
    "On obtient donc\n",
    "$$ P(Y \\leq x) = F(x) $$"
   ]
  },
  {
   "cell_type": "markdown",
   "id": "59515d3d",
   "metadata": {},
   "source": [
    "#### 2. Si f est la fonction de répartition d’une variable aléatoire exponentielle alors $F^{−1}(x) = −ln(x−1) / λ$ pour tout $x ∈ [0, 1]$."
   ]
  },
  {
   "cell_type": "markdown",
   "id": "7d5d5760",
   "metadata": {},
   "source": [
    ">Is this a question ?"
   ]
  },
  {
   "cell_type": "markdown",
   "id": "4df49cf4",
   "metadata": {},
   "source": [
    "#### 3. Ecrire la fonction `exponentielle(λ)`"
   ]
  },
  {
   "cell_type": "code",
   "execution_count": 15,
   "id": "b7850b81",
   "metadata": {},
   "outputs": [],
   "source": [
    "def exponentielle(lamb):\n",
    "    return None"
   ]
  },
  {
   "cell_type": "markdown",
   "id": "b1904f3d",
   "metadata": {},
   "source": [
    "#### 4. Réaliser un grand nombre n de réalisations (par exemple n = 10000) de cette variable pour un λ fixé (par exemple λ = 1) puis tracer l’histogramme de ces réalisations avec la commande hist de la bibliothèque matplotlib.pyplot Comme précédemment.\n",
    "\n",
    "Cet histogramme donnera une densité empirique (multipliée par n) que l’on comparera avec la vraie densité obtenue avec la commande plot de matplotlib.\n",
    "\n",
    "On se réfèrera à https://matplotlib.org pour la documentation sur matplolib."
   ]
  },
  {
   "cell_type": "code",
   "execution_count": 16,
   "id": "239eb7e5",
   "metadata": {},
   "outputs": [],
   "source": [
    "n = 10000"
   ]
  },
  {
   "cell_type": "markdown",
   "id": "968a7ab6-ee5a-4097-862d-9cfbabd06844",
   "metadata": {},
   "source": [
    "### Exercice 4 - Méthode de Monte-Carlo\n",
    "\n",
    "La méthode de Monte-Carlo est une méthode aléatoire pour calculer des intégrales, par exemple des aires. On va utiliser cette méthode pour calculer l’aire d’un disque de rayon 1 pour obtenir une approximation de **π**.\n",
    "\n",
    "En effet, un disque de rayon 1 a pour aire **π × 1<sup>2</sup>** = π. Pour des raisons pratiques, on va calculer l’aire du quart de disque de centre 0 et de rayon 1 dans le plan. On va tirer au hasard n points dans le carré [0, 1]<sup>2</sup> et compter ceux qui tombent à l’intérieur du disque.\n",
    "\n",
    "Pour de grandes valeurs de `n`, on s’attend à ce que la proportion de ceux qui tombent dans le disque soit égale aux rapports des aires du quart de disque et du carré, c’est-à-dire **π/4**. On multipliera cette proportion par 4 pour obtenir une approximation de **π**."
   ]
  },
  {
   "cell_type": "markdown",
   "id": "e9f41237-da33-4a36-89e8-c247f18cfa88",
   "metadata": {},
   "source": [
    "#### 1. Tirer n (par exemple n = 100 ou 1000) points au hasard dans le carré [0, 1]<sup>2</sup>. Les coordonnées (x, y) de ces points suivront des variables aléatoires uniformes sur [0, 1]."
   ]
  },
  {
   "cell_type": "code",
   "execution_count": 17,
   "id": "c03916af-c45d-494b-b84c-2f3bb5d3d546",
   "metadata": {
    "tags": []
   },
   "outputs": [
    {
     "name": "stdout",
     "output_type": "stream",
     "text": [
      "[0.26827914226414395, 0.974753649029121, 0.2775830008469201, 0.9130965278879718, 0.17887223587795642]\n",
      "[0.5892813882548119, 0.5628504292637468, 0.4082463415823334, 0.7790398302014921, 0.09080276786654595]\n"
     ]
    }
   ],
   "source": [
    "def tirage(n: int) -> list:\n",
    "    x = []\n",
    "    y = []\n",
    "    for i in range(n):\n",
    "        x.append(random.random())\n",
    "        y.append(random.random())\n",
    "    return (x, y)\n",
    "\n",
    "coord = tirage(5)\n",
    "x = coord[0]\n",
    "y = coord[1]\n",
    "\n",
    "print(x)\n",
    "print(y)"
   ]
  },
  {
   "cell_type": "markdown",
   "id": "f6c03418-f060-41aa-a88d-cb3a3431299e",
   "metadata": {},
   "source": [
    "#### 2. Afficher avec les commandes `scatter` et `plot` de la bibliothèque matplotlib ces n tirages ansi que le quart d’arc de cercle dans ce carré"
   ]
  },
  {
   "cell_type": "code",
   "execution_count": 18,
   "id": "3c87280f-2806-4cd1-9c4c-9922c0163649",
   "metadata": {
    "tags": []
   },
   "outputs": [
    {
     "name": "stdout",
     "output_type": "stream",
     "text": [
      "[0.0, 0.1, 0.2, 0.3, 0.4, 0.5, 0.6, 0.7, 0.8, 0.9, 1.0]\n",
      "[1.0, 0.99498743710662, 0.9797958971132712, 0.9539392014169457, 0.916515138991168, 0.8660254037844386, 0.8, 0.714142842854285, 0.5999999999999999, 0.4358898943540673, 0.0]\n"
     ]
    }
   ],
   "source": [
    "import math\n",
    "\n",
    "def arc_cercle(precision: int) -> list:\n",
    "    a = []\n",
    "    b = []\n",
    "    for i in range(precision + 1):\n",
    "        x = i / precision\n",
    "        y = math.sqrt(1 - x**2)\n",
    "        a.append(x)\n",
    "        b.append(y)\n",
    "    return [a, b]\n",
    "\n",
    "circ = arc_cercle(10)\n",
    "a = circ[0]\n",
    "b = circ[1]\n",
    "\n",
    "print(a)\n",
    "print(b)"
   ]
  },
  {
   "cell_type": "code",
   "execution_count": 21,
   "id": "99874bf8-dba1-4b7d-a07e-afecc0c9bd42",
   "metadata": {
    "tags": []
   },
   "outputs": [
    {
     "data": {
      "image/png": "[encoded data removed]",
      "text/plain": [
       "<Figure size 640x480 with 1 Axes>"
      ]
     },
     "metadata": {},
     "output_type": "display_data"
    }
   ],
   "source": [
    "n = 1000\n",
    "coord = tirage(n)\n",
    "\n",
    "x = coord[0]\n",
    "y = coord[1]\n",
    "z = arc_cercle(n)\n",
    "\n",
    "plt.scatter(x, y, color=\"pink\")\n",
    "plt.plot(z[0], z[1], color=\"lightblue\", linewidth=2.5)\n",
    "plt.show()"
   ]
  },
  {
   "cell_type": "markdown",
   "id": "757e5678-dac6-4747-8d86-93e835ae4c6d",
   "metadata": {},
   "source": [
    "#### 3. Calculer la proportion de points à l’intérieur du carré et retourner une approximation de π. On utilisera que les points (x, y) à l’intérieur du disque satisfont l’inégalité x<sup>2</sup> + y<sup>2</sup> < 1."
   ]
  },
  {
   "cell_type": "code",
   "execution_count": 20,
   "id": "d14704f8-2dff-4531-934f-514e8e163895",
   "metadata": {},
   "outputs": [
    {
     "name": "stdout",
     "output_type": "stream",
     "text": [
      "Proportion de points dans le cercle (n = 1000) : 78.3 %\n",
      "Apporximation de pi : 3.132\n"
     ]
    }
   ],
   "source": [
    "n = 1000\n",
    "coord = tirage(n)\n",
    "\n",
    "def inside_circ (points: list, n: int) -> float:\n",
    "    x = points[0]\n",
    "    y = points[1]\n",
    "    pointsInside = 0\n",
    "    for i in range(len(x)):\n",
    "        if (x[i]**2 + y[i]**2) < 1:\n",
    "            pointsInside += 1\n",
    "    return pointsInside / n\n",
    "\n",
    "p = inside_circ(coord, n)\n",
    "\n",
    "print(\"Proportion de points dans le cercle (n =\", str(n)+\") :\", p*100, '%')\n",
    "print(\"Apporximation de pi :\", p*4)"
   ]
  }
 ],
 "metadata": {
  "kernelspec": {
   "display_name": "Python 3",
   "language": "python",
   "name": "python3"
  },
  "language_info": {
   "codemirror_mode": {
    "name": "ipython",
    "version": 3
   },
   "file_extension": ".py",
   "mimetype": "text/x-python",
   "name": "python",
   "nbconvert_exporter": "python",
   "pygments_lexer": "ipython3",
   "version": "3.11.9"
  }
 },
 "nbformat": 4,
 "nbformat_minor": 5
}
